{
 "cells": [
  {
   "cell_type": "code",
   "execution_count": null,
   "metadata": {},
   "outputs": [
    {
     "name": "stdout",
     "output_type": "stream",
     "text": [
      "\n"
     ]
    },
    {
     "data": {
      "text/plain": [
       "ProfileViewDetailed(did='did:plc:h7aonucls35qtmjea6askmd4', handle='crimecheese.bsky.social', associated=ProfileAssociated(chat=ProfileAssociatedChat(allow_incoming='following', py_type='app.bsky.actor.defs#profileAssociatedChat'), feedgens=0, labeler=False, lists=0, starter_packs=0, py_type='app.bsky.actor.defs#profileAssociated'), avatar='https://cdn.bsky.app/img/avatar/plain/did:plc:h7aonucls35qtmjea6askmd4/bafkreidmorg4iatqskc76mf6sqa7whdvgivlqjegkwwhymmv3eqfqxbo3y@jpeg', banner='https://cdn.bsky.app/img/banner/plain/did:plc:h7aonucls35qtmjea6askmd4/bafkreibd3vqpc2ly5txtphwkcksnukqmciwjygnummkgdknjnod2kvurzu@jpeg', created_at='2023-10-05T07:40:36.203Z', description=None, display_name='Sir Gamer III 🤠🫡', followers_count=33, follows_count=62, indexed_at='2024-01-26T02:06:17.945Z', joined_via_starter_pack=None, labels=[], pinned_post=None, posts_count=24, viewer=ViewerState(blocked_by=False, blocking=None, blocking_by_list=None, followed_by=None, following=None, known_followers=KnownFollowers(count=2, followers=[ProfileViewBasic(did='did:plc:jn2c6bcr5rcwlmfcfn5k37sm', handle='comraderobot.bsky.social', associated=ProfileAssociated(chat=ProfileAssociatedChat(allow_incoming='following', py_type='app.bsky.actor.defs#profileAssociatedChat'), feedgens=None, labeler=None, lists=None, starter_packs=None, py_type='app.bsky.actor.defs#profileAssociated'), avatar='https://cdn.bsky.app/img/avatar/plain/did:plc:jn2c6bcr5rcwlmfcfn5k37sm/bafkreiduyw3hoqcts5a6mrvk3vjp7fa6v6jf2m7zd5fvwfabv6smzgu2ka@jpeg', created_at='2023-05-15T21:47:31.096Z', display_name='Notorious RBMK', labels=[Label(cts='1970-01-01T00:00:00.000Z', src='did:plc:jn2c6bcr5rcwlmfcfn5k37sm', uri='at://did:plc:jn2c6bcr5rcwlmfcfn5k37sm/app.bsky.actor.profile/self', val='!no-unauthenticated', cid='bafyreidpczx4xvws6gqiefc64damqt33g7xrwg4py72huyakf462suaux4', exp=None, neg=None, sig=None, ver=None, py_type='com.atproto.label.defs#label')], viewer=ViewerState(blocked_by=False, blocking=None, blocking_by_list=None, followed_by='at://did:plc:jn2c6bcr5rcwlmfcfn5k37sm/app.bsky.graph.follow/3kazapcshwf24', following='at://did:plc:h7aonucls35qtmjea6askmd4/app.bsky.graph.follow/3kayh4lygx32l', known_followers=None, muted=False, muted_by_list=None, py_type='app.bsky.actor.defs#viewerState'), py_type='app.bsky.actor.defs#profileViewBasic'), ProfileViewBasic(did='did:plc:m2qcdull5h3sh5an5wpdfvnu', handle='ericriccihuang.bsky.social', associated=ProfileAssociated(chat=ProfileAssociatedChat(allow_incoming='all', py_type='app.bsky.actor.defs#profileAssociatedChat'), feedgens=None, labeler=None, lists=None, starter_packs=None, py_type='app.bsky.actor.defs#profileAssociated'), avatar='https://cdn.bsky.app/img/avatar/plain/did:plc:m2qcdull5h3sh5an5wpdfvnu/bafkreibry4s2vvmvpflb3qgvmwu6i7q2xeorfaegj7ntd3b7a6laifalvu@jpeg', created_at='2024-11-12T13:26:50.538Z', display_name='Eric \"Ricci\" Huang', labels=[], viewer=ViewerState(blocked_by=False, blocking=None, blocking_by_list=None, followed_by='at://did:plc:m2qcdull5h3sh5an5wpdfvnu/app.bsky.graph.follow/3lawghca6lj2m', following='at://did:plc:h7aonucls35qtmjea6askmd4/app.bsky.graph.follow/3lawg7kggkg2h', known_followers=None, muted=False, muted_by_list=None, py_type='app.bsky.actor.defs#viewerState'), py_type='app.bsky.actor.defs#profileViewBasic')], py_type='app.bsky.actor.defs#knownFollowers'), muted=False, muted_by_list=None, py_type='app.bsky.actor.defs#viewerState'), py_type='app.bsky.actor.defs#profileViewDetailed')"
      ]
     },
     "execution_count": 2,
     "metadata": {},
     "output_type": "execute_result"
    }
   ],
   "source": [
    "from atproto import Client\n",
    "import os\n",
    "\n",
    "username = os.environ['BSKY_USER']\n",
    "password = os.environ['BSKY_PASS']\n",
    "\n",
    "client = Client()\n",
    "client.login(username, password)"
   ]
  },
  {
   "cell_type": "code",
   "execution_count": 3,
   "metadata": {},
   "outputs": [],
   "source": [
    "post = client.send_post('Hello world! I posted this via the Python SDK.')"
   ]
  }
 ],
 "metadata": {
  "kernelspec": {
   "display_name": "Python 3",
   "language": "python",
   "name": "python3"
  },
  "language_info": {
   "codemirror_mode": {
    "name": "ipython",
    "version": 3
   },
   "file_extension": ".py",
   "mimetype": "text/x-python",
   "name": "python",
   "nbconvert_exporter": "python",
   "pygments_lexer": "ipython3",
   "version": "3.12.3"
  }
 },
 "nbformat": 4,
 "nbformat_minor": 2
}
